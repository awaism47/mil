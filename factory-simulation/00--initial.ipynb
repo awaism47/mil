{
 "cells": [
  {
   "cell_type": "code",
   "execution_count": 4,
   "id": "69e09beb-775e-45c7-aaa3-ba21d07edff5",
   "metadata": {
    "tags": []
   },
   "outputs": [
    {
     "ename": "ModuleNotFoundError",
     "evalue": "No module named 'wget'",
     "output_type": "error",
     "traceback": [
      "\u001b[0;31m---------------------------------------------------------------------------\u001b[0m",
      "\u001b[0;31mModuleNotFoundError\u001b[0m                       Traceback (most recent call last)",
      "Cell \u001b[0;32mIn[4], line 3\u001b[0m\n\u001b[1;32m      1\u001b[0m \u001b[38;5;28;01mimport\u001b[39;00m \u001b[38;5;21;01msimpy\u001b[39;00m\n\u001b[1;32m      2\u001b[0m \u001b[38;5;28;01mimport\u001b[39;00m \u001b[38;5;21;01mpandas\u001b[39;00m\n\u001b[0;32m----> 3\u001b[0m \u001b[38;5;28;01mimport\u001b[39;00m \u001b[38;5;21;01mwget\u001b[39;00m\n",
      "\u001b[0;31mModuleNotFoundError\u001b[0m: No module named 'wget'"
     ]
    }
   ],
   "source": [
    "import simpy\n",
    "import pandas\n",
    "import wget"
   ]
  },
  {
   "cell_type": "code",
   "execution_count": 3,
   "id": "1cc1e7e1-e2d7-4ff9-bc86-fc12c5072bed",
   "metadata": {},
   "outputs": [
    {
     "name": "stdout",
     "output_type": "stream",
     "text": [
      "--2023-06-21 23:08:57--  https://zenodo.org/record/7071747/files/raw_data.csv\n",
      "Resolving zenodo.org (zenodo.org)... 188.185.124.72\n",
      "Connecting to zenodo.org (zenodo.org)|188.185.124.72|:443... connected.\n",
      "HTTP request sent, awaiting response... 200 OK\n",
      "Length: 49342406 (47M) [text/plain]\n",
      "Saving to: ‘raw_data.csv’\n",
      "\n",
      "raw_data.csv        100%[===================>]  47.06M  1.25MB/s    in 2m 26s  \n",
      "\n",
      "2023-06-21 23:11:24 (331 KB/s) - ‘raw_data.csv’ saved [49342406/49342406]\n",
      "\n"
     ]
    }
   ],
   "source": [
    "# load zenodo manufacturing dataset for process manufacturing anomlay detection\n",
    "\n",
    "!wget \"https://zenodo.org/record/7071747/files/raw_data.csv\""
   ]
  },
  {
   "cell_type": "code",
   "execution_count": null,
   "id": "f9c39add-bc02-49d1-a6e3-c922445b47cc",
   "metadata": {},
   "outputs": [],
   "source": []
  }
 ],
 "metadata": {
  "kernelspec": {
   "display_name": "Python 3 (ipykernel)",
   "language": "python",
   "name": "python3"
  },
  "language_info": {
   "codemirror_mode": {
    "name": "ipython",
    "version": 3
   },
   "file_extension": ".py",
   "mimetype": "text/x-python",
   "name": "python",
   "nbconvert_exporter": "python",
   "pygments_lexer": "ipython3",
   "version": "3.10.11"
  }
 },
 "nbformat": 4,
 "nbformat_minor": 5
}
