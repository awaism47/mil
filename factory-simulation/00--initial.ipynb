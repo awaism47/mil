{
 "cells": [
  {
   "cell_type": "code",
   "execution_count": 1,
   "id": "69e09beb-775e-45c7-aaa3-ba21d07edff5",
   "metadata": {
    "tags": []
   },
   "outputs": [],
   "source": [
    "import simpy"
   ]
  },
  {
   "cell_type": "code",
   "execution_count": null,
   "id": "1cc1e7e1-e2d7-4ff9-bc86-fc12c5072bed",
   "metadata": {},
   "outputs": [],
   "source": []
  }
 ],
 "metadata": {
  "kernelspec": {
   "display_name": "Python 3 (ipykernel)",
   "language": "python",
   "name": "python3"
  },
  "language_info": {
   "codemirror_mode": {
    "name": "ipython",
    "version": 3
   },
   "file_extension": ".py",
   "mimetype": "text/x-python",
   "name": "python",
   "nbconvert_exporter": "python",
   "pygments_lexer": "ipython3",
   "version": "3.10.11"
  }
 },
 "nbformat": 4,
 "nbformat_minor": 5
}
