{
 "cells": [
  {
   "cell_type": "code",
   "execution_count": 3,
   "id": "38958e0a-0247-484b-9469-3bf566ef460d",
   "metadata": {
    "tags": []
   },
   "outputs": [],
   "source": [
    "import diagrams"
   ]
  },
  {
   "cell_type": "code",
   "execution_count": 4,
   "id": "5e2ea6ba-68e0-40cc-b5cc-f6f29911efe0",
   "metadata": {
    "tags": []
   },
   "outputs": [
    {
     "ename": "SyntaxError",
     "evalue": "invalid syntax (1610330377.py, line 4)",
     "output_type": "error",
     "traceback": [
      "\u001b[0;36m  Cell \u001b[0;32mIn[4], line 4\u001b[0;36m\u001b[0m\n\u001b[0;31m    from diagrams.onprem.database import MongoDBwith Diagram('My Diagram', direction='TB'):\u001b[0m\n\u001b[0m                                                     ^\u001b[0m\n\u001b[0;31mSyntaxError\u001b[0m\u001b[0;31m:\u001b[0m invalid syntax\n"
     ]
    }
   ],
   "source": [
    "from diagrams import Cluster, Diagram\n",
    "from diagrams.gcp.database import SQL\n",
    "from diagrams.gcp.storage import GCS\n",
    "from diagrams.onprem.database import MongoDB\n",
    "with Diagram('My Diagram', direction='TB'):\n",
    "  gcs = GCS('Google Cloud Storage')\n",
    "with Cluster('Databases'):\n",
    "  cloud_sql = SQL('Cloud SQL')\n",
    "  mongodb = MongoDB('MongoDB')"
   ]
  },
  {
   "cell_type": "code",
   "execution_count": null,
   "id": "e402a183-f965-425b-ba5c-3df67c8f8d49",
   "metadata": {},
   "outputs": [],
   "source": []
  }
 ],
 "metadata": {
  "kernelspec": {
   "display_name": "Python 3 (ipykernel)",
   "language": "python",
   "name": "python3"
  },
  "language_info": {
   "codemirror_mode": {
    "name": "ipython",
    "version": 3
   },
   "file_extension": ".py",
   "mimetype": "text/x-python",
   "name": "python",
   "nbconvert_exporter": "python",
   "pygments_lexer": "ipython3",
   "version": "3.10.11"
  }
 },
 "nbformat": 4,
 "nbformat_minor": 5
}
