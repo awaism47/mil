{
 "cells": [
  {
   "cell_type": "code",
   "execution_count": 3,
   "id": "38958e0a-0247-484b-9469-3bf566ef460d",
   "metadata": {
    "tags": []
   },
   "outputs": [],
   "source": [
    "import diagrams"
   ]
  },
  {
   "cell_type": "code",
   "execution_count": 14,
   "id": "5e2ea6ba-68e0-40cc-b5cc-f6f29911efe0",
   "metadata": {
    "tags": []
   },
   "outputs": [
    {
     "ename": "OSError",
     "evalue": "Global diagrams context not set up",
     "output_type": "error",
     "traceback": [
      "\u001b[0;31m---------------------------------------------------------------------------\u001b[0m",
      "\u001b[0;31mOSError\u001b[0m                                   Traceback (most recent call last)",
      "Cell \u001b[0;32mIn[14], line 11\u001b[0m\n\u001b[1;32m      8\u001b[0m \u001b[38;5;28;01mwith\u001b[39;00m Diagram(\u001b[38;5;124m\"\u001b[39m\u001b[38;5;124mMessage Collecting\u001b[39m\u001b[38;5;124m\"\u001b[39m, show\u001b[38;5;241m=\u001b[39m\u001b[38;5;28;01mFalse\u001b[39;00m):\n\u001b[1;32m      9\u001b[0m     pubsub \u001b[38;5;241m=\u001b[39m PubSub(\u001b[38;5;124m\"\u001b[39m\u001b[38;5;124mpubsub\u001b[39m\u001b[38;5;124m\"\u001b[39m)\n\u001b[0;32m---> 11\u001b[0m \u001b[38;5;28;01mwith\u001b[39;00m \u001b[43mCluster\u001b[49m\u001b[43m(\u001b[49m\u001b[38;5;124;43m\"\u001b[39;49m\u001b[38;5;124;43mSource of Data\u001b[39;49m\u001b[38;5;124;43m\"\u001b[39;49m\u001b[43m)\u001b[49m:\n\u001b[1;32m     12\u001b[0m         [IotCore(\u001b[38;5;124m\"\u001b[39m\u001b[38;5;124mcore1\u001b[39m\u001b[38;5;124m\"\u001b[39m),\n\u001b[1;32m     13\u001b[0m          IotCore(\u001b[38;5;124m\"\u001b[39m\u001b[38;5;124mcore2\u001b[39m\u001b[38;5;124m\"\u001b[39m),\n\u001b[1;32m     14\u001b[0m          IotCore(\u001b[38;5;124m\"\u001b[39m\u001b[38;5;124mcore3\u001b[39m\u001b[38;5;124m\"\u001b[39m)] \u001b[38;5;241m>>\u001b[39m pubsub\n\u001b[1;32m     16\u001b[0m \u001b[38;5;28;01mwith\u001b[39;00m Cluster(\u001b[38;5;124m\"\u001b[39m\u001b[38;5;124mTargets\u001b[39m\u001b[38;5;124m\"\u001b[39m):\n",
      "File \u001b[0;32m~/Git/mil/xr-architecture/envs/default/lib/python3.10/site-packages/diagrams/__init__.py:243\u001b[0m, in \u001b[0;36mCluster.__init__\u001b[0;34m(self, label, direction, graph_attr)\u001b[0m\n\u001b[1;32m    241\u001b[0m \u001b[38;5;28mself\u001b[39m\u001b[38;5;241m.\u001b[39m_diagram \u001b[38;5;241m=\u001b[39m getdiagram()\n\u001b[1;32m    242\u001b[0m \u001b[38;5;28;01mif\u001b[39;00m \u001b[38;5;28mself\u001b[39m\u001b[38;5;241m.\u001b[39m_diagram \u001b[38;5;129;01mis\u001b[39;00m \u001b[38;5;28;01mNone\u001b[39;00m:\n\u001b[0;32m--> 243\u001b[0m     \u001b[38;5;28;01mraise\u001b[39;00m \u001b[38;5;167;01mEnvironmentError\u001b[39;00m(\u001b[38;5;124m\"\u001b[39m\u001b[38;5;124mGlobal diagrams context not set up\u001b[39m\u001b[38;5;124m\"\u001b[39m)\n\u001b[1;32m    244\u001b[0m \u001b[38;5;28mself\u001b[39m\u001b[38;5;241m.\u001b[39m_parent \u001b[38;5;241m=\u001b[39m getcluster()\n\u001b[1;32m    246\u001b[0m \u001b[38;5;66;03m# Set cluster depth for distinguishing the background color\u001b[39;00m\n",
      "\u001b[0;31mOSError\u001b[0m: Global diagrams context not set up"
     ]
    }
   ],
   "source": [
    "from diagrams import Cluster, Diagram\n",
    "from diagrams.gcp.analytics import BigQuery, Dataflow, PubSub\n",
    "from diagrams.gcp.compute import AppEngine, Functions\n",
    "from diagrams.gcp.database import BigTable\n",
    "from diagrams.gcp.iot import IotCore\n",
    "from diagrams.gcp.storage import GCS\n",
    "\n",
    "with Diagram(\"Message Collecting\", show=False):\n",
    "    pubsub = PubSub(\"pubsub\")\n",
    "    \n",
    "with Cluster(\"Source of Data\"):\n",
    "        [IotCore(\"core1\"),\n",
    "         IotCore(\"core2\"),\n",
    "         IotCore(\"core3\")] >> pubsub\n",
    "\n",
    "with Cluster(\"Targets\"):\n",
    "        with Cluster(\"Data Flow\"):\n",
    "            flow = Dataflow(\"data flow\")\n",
    "\n",
    "with Cluster(\"Data Lake\"):\n",
    "            flow >> [BigQuery(\"bq\"),\n",
    "                     GCS(\"storage\")]\n",
    "        \n",
    "with Cluster(\"Event Driven\"):\n",
    "            with Cluster(\"Processing\"):\n",
    "                flow >> AppEngine(\"engine\") >> BigTable(\"bigtable\")\n",
    "                \n",
    "with Cluster(\"Serverless\"):\n",
    "                flow >> Functions(\"func\") >> AppEngine(\"appengine\")\n",
    "\n",
    "pubsub >> flow"
   ]
  },
  {
   "cell_type": "code",
   "execution_count": null,
   "id": "e402a183-f965-425b-ba5c-3df67c8f8d49",
   "metadata": {},
   "outputs": [],
   "source": []
  }
 ],
 "metadata": {
  "kernelspec": {
   "display_name": "Python 3 (ipykernel)",
   "language": "python",
   "name": "python3"
  },
  "language_info": {
   "codemirror_mode": {
    "name": "ipython",
    "version": 3
   },
   "file_extension": ".py",
   "mimetype": "text/x-python",
   "name": "python",
   "nbconvert_exporter": "python",
   "pygments_lexer": "ipython3",
   "version": "3.10.11"
  }
 },
 "nbformat": 4,
 "nbformat_minor": 5
}
